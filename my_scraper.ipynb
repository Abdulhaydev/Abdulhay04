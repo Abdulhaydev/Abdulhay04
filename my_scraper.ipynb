{
  "nbformat": 4,
  "nbformat_minor": 0,
  "metadata": {
    "colab": {
      "provenance": [],
      "authorship_tag": "ABX9TyMVbILE7c37ujhm2lSeqT2D",
      "include_colab_link": true
    },
    "kernelspec": {
      "name": "python3",
      "display_name": "Python 3"
    },
    "language_info": {
      "name": "python"
    }
  },
  "cells": [
    {
      "cell_type": "markdown",
      "metadata": {
        "id": "view-in-github",
        "colab_type": "text"
      },
      "source": [
        "<a href=\"https://colab.research.google.com/github/Abdulhay04/Abdulhay04/blob/main/my_scraper.ipynb\" target=\"_parent\"><img src=\"https://colab.research.google.com/assets/colab-badge.svg\" alt=\"Open In Colab\"/></a>"
      ]
    },
    {
      "cell_type": "code",
      "execution_count": 1,
      "metadata": {
        "colab": {
          "base_uri": "https://localhost:8080/"
        },
        "id": "EHZRP9TVmczT",
        "outputId": "4a0d4e7d-5ff1-416f-e319-8db77ce8be8b"
      },
      "outputs": [
        {
          "output_type": "stream",
          "name": "stdout",
          "text": [
            "Developer, Repository Name, Number of Stars\n",
            "@WithoutPants,stashapp/stash,247starstoday\n",
            "@mubertapp,MubertAI/Mubert-Text-to-Music,197starstoday\n",
            "@bigint,lensterxyz/lenster,491starstoday\n",
            "@johnlanni,alibaba/higress,89starstoday\n",
            "@bregman-arie,bregman-arie/devops-exercises,254starstoday\n",
            "@Gargron,mastodon/mastodon,432starstoday\n",
            "@matheusfelipeog,public-apis/public-apis,494starstoday\n",
            "@operatorfilterer,ProjectOpenSea/operator-filter-registry,43starstoday\n",
            "@trinib,trinib/Linux-Bash-Commands,333starstoday\n",
            "@ryanmcdermott,ryanmcdermott/clean-code-javascript,151starstoday\n",
            "@6mile,6mile/DevSecOps-Playbook,207starstoday\n",
            "@ericdouglas,ossu/computer-science,322starstoday\n",
            "@reactjs-bot,facebook/react-native,84starstoday\n",
            "@geohot,geohot/tinygrad,141starstoday\n",
            "@64json,algorithm-visualizer/algorithm-visualizer,200starstoday\n",
            "@jlevy,jlevy/the-art-of-command-line,325starstoday\n",
            "@mike12345567,Budibase/budibase,161starstoday\n",
            "@nathanlesage,nathanlesage/academics-on-mastodon,83starstoday\n",
            "@Lateasusual,dillongoostudios/goo-engine,28starstoday\n",
            "@bee-san,RustScan/RustScan,275starstoday\n",
            "@Gargron,mastodon/mastodon-android,81starstoday\n",
            "@chenshuai2144,ant-design/pro-components,71starstoday\n",
            "@CyC2018,CyC2018/CS-Notes,99starstoday\n",
            "@teoli2003,mdn/content,108starstoday\n",
            "@dhaavi,safing/portmaster,343starstoday\n"
          ]
        }
      ],
      "source": [
        "import requests\n",
        "from bs4 import BeautifulSoup\n",
        "\n",
        "def request_github_trending(url):\n",
        "    return requests.get(url)\n",
        "\n",
        "def extract(page):\n",
        "    soup = BeautifulSoup(page.text,\"html.parser\")\n",
        "    return soup.find_all(\"article\")\n",
        "\n",
        "def transform(html_repos):\n",
        "    result = []\n",
        "    for row in html_repos:\n",
        "        repository_name = ''.join(row.select_one('h1.h3.lh-condensed').text.split())\n",
        "        number_stars = ''.join(row.select_one('span.d-inline-block.float-sm-right').text.split())\n",
        "        developer_name = row.select_one('img.avatar.mb-1.avatar-user')['alt']\n",
        "        result.append({'developer':developer_name,'repository_name': repository_name,'nbr_stars':number_stars})\n",
        "    return result\n",
        "\n",
        "def format(repositories_data):\n",
        "    result = [\"Developer, Repository Name, Number of Stars\"]\n",
        "\n",
        "    for repos in repositories_data:\n",
        "        row = [repos['developer'],repos['repository_name'],repos['nbr_stars']]\n",
        "        result.append(','.join(row))\n",
        "    return \"\\n\".join(result)    \n",
        "\n",
        "\n",
        "url = \"https://github.com/trending\"\n",
        "page = request_github_trending(url)\n",
        "html_repos = extract(page)\n",
        "repositories_data = transform(html_repos)\n",
        "print(format(repositories_data))"
      ]
    }
  ]
}