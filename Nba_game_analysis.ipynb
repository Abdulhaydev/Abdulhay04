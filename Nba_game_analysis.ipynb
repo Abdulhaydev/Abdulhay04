{
  "nbformat": 4,
  "nbformat_minor": 0,
  "metadata": {
    "colab": {
      "provenance": [],
      "authorship_tag": "ABX9TyNHj6clUaOejXfpLlioqWy5",
      "include_colab_link": true
    },
    "kernelspec": {
      "name": "python3",
      "display_name": "Python 3"
    },
    "language_info": {
      "name": "python"
    }
  },
  "cells": [
    {
      "cell_type": "markdown",
      "metadata": {
        "id": "view-in-github",
        "colab_type": "text"
      },
      "source": [
        "<a href=\"https://colab.research.google.com/github/Abdulhay04/Abdulhay04/blob/main/Nba_game_analysis.ipynb\" target=\"_parent\"><img src=\"https://colab.research.google.com/assets/colab-badge.svg\" alt=\"Open In Colab\"/></a>"
      ]
    },
    {
      "cell_type": "code",
      "execution_count": 2,
      "metadata": {
        "colab": {
          "base_uri": "https://localhost:8080/"
        },
        "id": "VPTn4kIveStp",
        "outputId": "ec3ca6f7-fb03-494e-8f7d-93304d06d8ff"
      },
      "outputs": [
        {
          "output_type": "stream",
          "name": "stdout",
          "text": [
            "--2022-11-09 05:52:35--  https://storage.googleapis.com/qwasar-public/nba_game_warriors_thunder_20181016.txt\n",
            "Resolving storage.googleapis.com (storage.googleapis.com)... 142.251.107.128, 74.125.196.128, 142.251.162.128, ...\n",
            "Connecting to storage.googleapis.com (storage.googleapis.com)|142.251.107.128|:443... connected.\n",
            "HTTP request sent, awaiting response... 200 OK\n",
            "Length: 61613 (60K) [text/plain]\n",
            "Saving to: ‘nba_game_warriors_thunder_20181016.txt’\n",
            "\n",
            "\r          nba_game_   0%[                    ]       0  --.-KB/s               \rnba_game_warriors_t 100%[===================>]  60.17K  --.-KB/s    in 0s      \n",
            "\n",
            "2022-11-09 05:52:35 (126 MB/s) - ‘nba_game_warriors_thunder_20181016.txt’ saved [61613/61613]\n",
            "\n"
          ]
        }
      ],
      "source": [
        "!wget https://storage.googleapis.com/qwasar-public/nba_game_warriors_thunder_20181016.txt"
      ]
    },
    {
      "cell_type": "code",
      "source": [
        "\n",
        "import csv \n",
        "import re\n",
        "\n",
        "def play_points(players, regexp, actions, abr):\n",
        "    my_list = []\n",
        "    for i in actions:\n",
        "        try:\n",
        "            my_list.append(re.compile(regexp).search(i[7])[1])\n",
        "        except:\n",
        "            pass\n",
        "\n",
        "    for par in my_list:\n",
        "        for p_l in players[\"home_team\"][\"players_data\"]:\n",
        "            if p_l[\"player_name\"] == par:\n",
        "                p_l[abr]+=1\n",
        "        for p_l in players[\"away_team\"][\"players_data\"]:\n",
        "            if p_l[\"player_name\"] == par:\n",
        "                p_l[abr]+=1\n",
        "\n",
        "def my_data(csvfile):   \n",
        "    with open(csvfile, 'r') as nba_file:\n",
        "        play_by_play = [line for line in csv.reader(nba_file, delimiter=\"|\")]\n",
        "\n",
        "    player_table = {\"home_team\": {\"name\": \"\", \"players_data\": []}, \"away_team\": {\"name\": \"\", \"players_data\": []}}\n",
        "\n",
        "    for play in play_by_play:\n",
        "        home_team = play[4]\n",
        "        relevant_team = play[2]\n",
        "        prese_action = play[7]\n",
        "        try:\n",
        "            player_name = re.compile(r\"^(\\S+\\. \\S+|\\S\\. \\S+-\\S)\").search(prese_action)[1]\n",
        "            player = {\"player_name\": player_name, \"FG\": 0, \"FGM\": 0, \"FGA\": 0, \"FG%\": 0.0, \"3P\": 0, \"3PM\": 0, \"3PA\": 0, \"3P%\": 0.0, \"2P\": 0, \"2PM\": 0, \"FT\": 0, \"FTM\": 0, \"FTA\": 0, \"FT%\": 0.0, \"ORB\": 0, \"DRB\": 0, \"TRB\": 0, \"AST\": 0, \"STL\": 0, \"BLK\": 0, \"TOV\": 0, \"PF\": 0, \"PTS\": 0, \"MCPFT\": 0, \"MICPFT\": 0}\n",
        "            if relevant_team == home_team:\n",
        "                if not player in player_table[\"home_team\"][\"players_data\"]:\n",
        "                    player_table[\"home_team\"][\"players_data\"].append(player)\n",
        "            else:\n",
        "                if not player in player_table[\"away_team\"][\"players_data\"]:\n",
        "                    player_table[\"away_team\"][\"players_data\"].append(player)\n",
        "        except:\n",
        "            pass\n",
        "    reform = r\"(\\S+\\. \\S+)\"\n",
        "    play_points(player_table, f\"{reform} makes 3-pt\", play_by_play, \"3P\")\n",
        "    play_points(player_table, f\"{reform} misses 3-pt\", play_by_play, \"3PM\")\n",
        "    play_points(player_table, f\"{reform} makes 2-pt\", play_by_play, \"2P\")\n",
        "    play_points(player_table, f\"{reform} misses 2-pt\", play_by_play, \"2PM\")\n",
        "    play_points(player_table, f\"Offensive rebound by {reform}\", play_by_play, \"ORB\")\n",
        "    play_points(player_table, f\"Defensive rebound by {reform}\", play_by_play, \"DRB\")\n",
        "    play_points(player_table, f\"block by {reform}\", play_by_play, \"BLK\")\n",
        "    play_points(player_table, f\"steal by {reform}\", play_by_play, \"STL\")\n",
        "    play_points(player_table, f\"Turnover by {reform}\", play_by_play, \"TOV\")\n",
        "    play_points(player_table, f\"assist by {reform}\", play_by_play, \"AST\")\n",
        "    play_points(player_table, f\"Personal foul by {reform}\", play_by_play, \"PF\")\n",
        "    play_points(player_table, f\"{reform} makes free throw\", play_by_play, \"FT\")\n",
        "    play_points(player_table, f\"{reform} misses free throw\", play_by_play, \"FTM\")\n",
        "    play_points(player_table, f\"{reform} makes clear path free throw \", play_by_play, \"MCPFT\")\n",
        "    play_points(player_table, f\"{reform} misses clear path free throw \", play_by_play, \"MICPFT\")\n",
        "\n",
        "\n",
        "    for team in player_table.items():\n",
        "        for player in team[1][\"players_data\"]:\n",
        "            player[\"FG\"] = player[\"3P\"] + player[\"2P\"]\n",
        "            player[\"FGA\"] = player[\"3P\"] + player[\"2P\"] + player[\"3PM\"] + player[\"2PM\"]\n",
        "            player['3PA'] = player['3P'] + player['3PM']\n",
        "            player[\"FT\"] = player[\"FT\"] * 1 + player[\"MCPFT\"] + player[\"MICPFT\"]\n",
        "            player[\"FTA\"] = player[\"FT\"] + player[\"FTM\"]\n",
        "            player[\"PTS\"] = player[\"3P\"] * 3 + player[\"2P\"] * 2 + player[\"FT\"]\n",
        "            player[\"TRB\"] = player[\"DRB\"] + player[\"ORB\"]\n",
        "            try:\n",
        "                player[\"FG%\"] = round(player[\"FG\"] / player[\"FGA\"], 3)\n",
        "            except:\n",
        "                pass\n",
        "            try:\n",
        "                player['3P%'] = round(player['3P'] / player['3PA'], 3)\n",
        "            except:\n",
        "                pass\n",
        "            try:\n",
        "                player[\"FT%\"] = round(player[\"FT\"] / player[\"FTA\"], 3)\n",
        "            except:\n",
        "                pass\n",
        "\n",
        "    for team in player_table.items():\n",
        "        for player in team[1][\"players_data\"]:\n",
        "            del player[\"FGM\"]\n",
        "            del player[\"2P\"]\n",
        "            del player[\"2PM\"]\n",
        "            del player[\"3PM\"]\n",
        "            del player[\"FTM\"]\n",
        "            del player[\"MCPFT\"]\n",
        "            del player[\"MICPFT\"]\n",
        "\n",
        "    for team in player_table.items():\n",
        "        team_totals =  {\"FG\": 0, \"FGA\": 0, \"FG%\": 0.0, \"3P\": 0, \"3PA\": 0, \"3P%\": 0.0, \"FT\": 0, \"FTA\": 0, \"FT%\": 0.0, \"ORB\": 0, \"DRB\": 0, \"AST\": 0, \"STL\": 0, \"BLK\": 0, \"TOV\": 0, \"PF\": 0, \"PTS\": 0}\n",
        "        fg, fga, fgp, p3, p3a, p3p, ft, fta, ftp, orb, drb, trb, ast, stl, blk, tov, pf, pts = 0, 0, 0.0, 0, 0, 0.0, 0, 0, 0.0, 0, 0, 0, 0, 0, 0, 0, 0, 0\n",
        "        print(\"Players name\", \"FG\", \"FGA\", \"FG%\", \"3P\", \"3PA\", \"3P%\", \"FT\", \"FTA\", \"FT%\", \"ORB\", \"DRB\", \"TRB\", \"AST\", \"STL\", \"BLK\", \"TOV\", \"PF\", \"PTS\", sep=\"   \")\n",
        "        for player in team[1][\"players_data\"]:\n",
        "            print(player[\"player_name\"], player[\"FG\"], player[\"FGA\"], player[\"FG%\"], player[\"3P\"], player[\"3PA\"], player[\"3P%\"], player[\"FT\"], player[\"FTA\"], player[\"FT%\"], player[\"ORB\"], player[\"DRB\"], player[\"TRB\"], player[\"AST\"], player[\"STL\"], player[\"BLK\"], player[\"TOV\"], player[\"PF\"], player[\"PTS\"], sep=\"    \")\n",
        "            team_totals[\"FG\"] += player[\"FG\"]\n",
        "            team_totals[\"FGA\"] += player[\"FGA\"]\n",
        "            team_totals[\"3P\"] += player[\"3P\"]\n",
        "            team_totals[\"3PA\"] += player[\"3PA\"]\n",
        "            team_totals[\"FT\"] += player[\"FT\"]\n",
        "            team_totals[\"FTA\"] += player[\"FTA\"]\n",
        "            team_totals[\"ORB\"] += player[\"ORB\"]\n",
        "            team_totals[\"DRB\"] += player[\"DRB\"]\n",
        "            team_totals[\"AST\"] += player[\"AST\"]\n",
        "            team_totals[\"STL\"] += player[\"STL\"]\n",
        "            team_totals[\"BLK\"] += player[\"BLK\"]\n",
        "            team_totals[\"TOV\"] += player[\"TOV\"]\n",
        "            team_totals[\"PF\"] += player[\"PF\"]\n",
        "            team_totals[\"PTS\"] +=player[\"PTS\"]\n",
        "        team_totals[\"FG%\"] = round(team_totals[\"FG\"]/team_totals[\"FGA\"],3) if team_totals[\"FGA\"] > 0 else 0\n",
        "        team_totals[\"3P%\"] = round(team_totals[\"3P\"]/team_totals[\"3PA\"], 3) if team_totals[\"FGA\"] > 0 else 0\n",
        "        team_totals[\"FT%\"] = round(team_totals[\"FT\"] / team_totals[\"FTA\"],3) if team_totals[\"FGA\"] > 0 else 0\n",
        "        team_totals[\"TRB\"] = team_totals[\"ORB\"] + team_totals[\"DRB\"]\n",
        "        print(\"Team totals\", team_totals[\"FG\"], team_totals[\"FGA\"], team_totals[\"FG%\"], team_totals[\"3P\"], team_totals[\"3PA\"], team_totals[\"3P%\"], team_totals[\"FT\"], team_totals[\"FTA\"], team_totals[\"FT%\"], team_totals[\"ORB\"], team_totals[\"DRB\"], team_totals[\"TRB\"], team_totals[\"AST\"], team_totals[\"STL\"], team_totals[\"BLK\"], team_totals[\"TOV\"], team_totals[\"PF\"], team_totals[\"PTS\"], \"\\n\\n\", sep =\"    \")\n",
        "\n",
        "my_data(\"nba_game_warriors_thunder_20181016.txt\")\n",
        "# print('09','12','2016', sep='    ')\n",
        " "
      ],
      "metadata": {
        "colab": {
          "base_uri": "https://localhost:8080/"
        },
        "id": "4trGMeRefCSQ",
        "outputId": "d6c353e4-9b58-46d6-95b3-49f06abc6a4a"
      },
      "execution_count": 3,
      "outputs": [
        {
          "output_type": "stream",
          "name": "stdout",
          "text": [
            "Players name   FG   FGA   FG%   3P   3PA   3P%   FT   FTA   FT%   ORB   DRB   TRB   AST   STL   BLK   TOV   PF   PTS\n",
            "S. Curry    11    20    0.55    5    9    0.556    5    5    1.0    0    8    8    0    0    0    3    0    32\n",
            "K. Durant    9    21    0.429    0    5    0.0    9    10    0.9    1    7    8    0    0    0    3    2    27\n",
            "D. Jones    6    7    0.857    0    0    0.0    0    0    0.0    2    1    3    0    0    0    2    1    12\n",
            "D. Green    1    6    0.167    0    1    0.0    0    0    0.0    1    12    13    0    0    0    6    1    2\n",
            "K. Thompson    5    20    0.25    1    8    0.125    3    3    1.0    1    3    4    0    0    0    2    0    14\n",
            "K. Looney    5    11    0.455    0    0    0.0    0    0    0.0    8    2    10    0    0    0    1    2    10\n",
            "A. Iguodala    1    2    0.5    0    1    0.0    0    0    0.0    0    2    2    0    0    0    0    0    2\n",
            "Q. Cook    1    2    0.5    1    1    1.0    0    0    0.0    1    1    2    0    0    0    2    0    3\n",
            "J. Bell    0    0    0.0    0    0    0.0    0    0    0.0    1    1    2    0    0    0    0    0    0\n",
            "S. Livingston    3    5    0.6    0    0    0.0    0    0    0.0    2    1    3    0    0    0    1    0    6\n",
            "A. McKinnie    0    1    0.0    0    1    0.0    0    0    0.0    0    0    0    0    0    0    0    0    0\n",
            "Team totals    42    95    0.442    7    26    0.269    17    18    0.944    17    38    55    0    0    0    20    6    108    \n",
            "\n",
            "\n",
            "Players name   FG   FGA   FG%   3P   3PA   3P%   FT   FTA   FT%   ORB   DRB   TRB   AST   STL   BLK   TOV   PF   PTS\n",
            "S. Adams    6    12    0.5    0    0    0.0    5    8    0.625    4    7    11    0    0    0    2    0    17\n",
            "P. George    9    23    0.391    4    12    0.333    5    8    0.625    0    2    2    0    0    0    5    2    27\n",
            "D. Schröder    7    19    0.368    2    6    0.333    5    6    0.833    2    6    8    0    0    0    3    0    21\n",
            "P. Patterson    2    9    0.222    1    4    0.25    2    3    0.667    3    2    5    0    0    0    1    0    7\n",
            "Á. Abrines    3    8    0.375    2    6    0.333    0    0    0.0    0    2    2    0    0    0    0    1    8\n",
            "J. Grant    2    7    0.286    1    4    0.25    2    4    0.5    2    0    2    0    0    0    0    1    7\n",
            "R. Felton    1    5    0.2    0    3    0.0    4    5    0.8    0    3    3    0    0    0    2    0    6\n",
            "N. Noel    1    2    0.5    0    0    0.0    1    2    0.5    3    4    7    0    0    0    0    1    3\n",
            "H. Diallo    2    4    0.5    0    0    0.0    0    1    0.0    0    1    1    0    0    0    0    1    4\n",
            "T. Ferguson    0    2    0.0    0    2    0.0    0    0    0.0    2    2    4    0    0    0    1    2    0\n",
            "Team totals    33    91    0.363    10    37    0.27    24    37    0.649    16    29    45    0    0    0    14    8    100    \n",
            "\n",
            "\n"
          ]
        }
      ]
    },
    {
      "cell_type": "code",
      "source": [],
      "metadata": {
        "id": "Wly7L0d-rzj0"
      },
      "execution_count": null,
      "outputs": []
    }
  ]
}