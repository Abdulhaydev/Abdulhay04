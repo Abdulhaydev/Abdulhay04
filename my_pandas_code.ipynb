{
  "cells": [
    {
      "cell_type": "markdown",
      "metadata": {
        "id": "view-in-github",
        "colab_type": "text"
      },
      "source": [
        "<a href=\"https://colab.research.google.com/github/Abdulhay04/Abdulhay04/blob/main/my_pandas_code.ipynb\" target=\"_parent\"><img src=\"https://colab.research.google.com/assets/colab-badge.svg\" alt=\"Open In Colab\"/></a>"
      ]
    },
    {
      "cell_type": "code",
      "execution_count": null,
      "metadata": {
        "id": "WAckvBrpJSlN"
      },
      "outputs": [],
      "source": [
        "import pandas as pd\n",
        "import numpy as np "
      ]
    },
    {
      "cell_type": "code",
      "source": [
        "arr = np.random.rand(5)\n",
        "arr"
      ],
      "metadata": {
        "colab": {
          "base_uri": "https://localhost:8080/"
        },
        "id": "DjyGmbmBG67g",
        "outputId": "c51bf1dd-6a2c-427e-b6ef-78f6b8abc896"
      },
      "execution_count": null,
      "outputs": [
        {
          "output_type": "execute_result",
          "data": {
            "text/plain": [
              "array([0.30786133, 0.79807564, 0.175919  , 0.54412859, 0.67604629])"
            ]
          },
          "metadata": {},
          "execution_count": 5
        }
      ]
    },
    {
      "cell_type": "code",
      "source": [
        "arr1 = np.random.randint(5)\n",
        "arr1"
      ],
      "metadata": {
        "colab": {
          "base_uri": "https://localhost:8080/"
        },
        "id": "BooQL0GFHvUS",
        "outputId": "7be7a92b-5741-438d-f5fe-c3f56edca371"
      },
      "execution_count": null,
      "outputs": [
        {
          "output_type": "execute_result",
          "data": {
            "text/plain": [
              "0"
            ]
          },
          "metadata": {},
          "execution_count": 6
        }
      ]
    },
    {
      "cell_type": "code",
      "source": [
        "np.random.seed(1)\n",
        "ind = np.random.randint(1, 5, 2)\n",
        "ind.astype(int)"
      ],
      "metadata": {
        "colab": {
          "base_uri": "https://localhost:8080/"
        },
        "id": "VO6XYfJdIAMc",
        "outputId": "6220f0bf-d001-4745-8827-f5185a46a0ca"
      },
      "execution_count": null,
      "outputs": [
        {
          "output_type": "execute_result",
          "data": {
            "text/plain": [
              "array([2, 4])"
            ]
          },
          "metadata": {},
          "execution_count": 21
        }
      ]
    },
    {
      "cell_type": "code",
      "source": [
        "ey = np.eye(4)\n",
        "ey "
      ],
      "metadata": {
        "colab": {
          "base_uri": "https://localhost:8080/"
        },
        "id": "9EWiw2TXIV9I",
        "outputId": "853ce427-bae7-4fef-a0f9-9b67b5c933df"
      },
      "execution_count": null,
      "outputs": [
        {
          "output_type": "execute_result",
          "data": {
            "text/plain": [
              "array([[1., 0., 0., 0.],\n",
              "       [0., 1., 0., 0.],\n",
              "       [0., 0., 1., 0.],\n",
              "       [0., 0., 0., 1.]])"
            ]
          },
          "metadata": {},
          "execution_count": 22
        }
      ]
    },
    {
      "cell_type": "code",
      "source": [
        "a3 = np.array([[[1, 2, 3], \n",
        "                [4, 5, 6],\n",
        "                [7, 8, 9]], \n",
        "               [[7, 8, 9], \n",
        "                [10, 11, 12],\n",
        "                [13, 14, 15]]])"
      ],
      "metadata": {
        "id": "jp_x66WgJrNy"
      },
      "execution_count": null,
      "outputs": []
    },
    {
      "cell_type": "code",
      "source": [
        "a3.ndim"
      ],
      "metadata": {
        "colab": {
          "base_uri": "https://localhost:8080/"
        },
        "id": "U-_XM5fzLAHy",
        "outputId": "9fa51d01-9e8a-4db3-a374-437dad40d97a"
      },
      "execution_count": null,
      "outputs": [
        {
          "output_type": "execute_result",
          "data": {
            "text/plain": [
              "3"
            ]
          },
          "metadata": {},
          "execution_count": 29
        }
      ]
    },
    {
      "cell_type": "code",
      "source": [
        "a2 = np.array([[1, 2, 3], \n",
        "               [4, 5, 6]])"
      ],
      "metadata": {
        "id": "Bo5VYpWgLC3k"
      },
      "execution_count": null,
      "outputs": []
    },
    {
      "cell_type": "code",
      "source": [
        "a2.ndim"
      ],
      "metadata": {
        "colab": {
          "base_uri": "https://localhost:8080/"
        },
        "id": "p6nCnl8dLr3J",
        "outputId": "43009753-c2d6-4007-cf3b-dd5cc3e266c8"
      },
      "execution_count": null,
      "outputs": [
        {
          "output_type": "execute_result",
          "data": {
            "text/plain": [
              "2"
            ]
          },
          "metadata": {},
          "execution_count": 27
        }
      ]
    },
    {
      "cell_type": "code",
      "source": [
        "a3.shape"
      ],
      "metadata": {
        "colab": {
          "base_uri": "https://localhost:8080/"
        },
        "id": "haMxhgN6Lt5c",
        "outputId": "771d5270-0d37-42fb-bd82-e7f3d166470f"
      },
      "execution_count": null,
      "outputs": [
        {
          "output_type": "execute_result",
          "data": {
            "text/plain": [
              "(2, 2, 3)"
            ]
          },
          "metadata": {},
          "execution_count": 39
        }
      ]
    },
    {
      "cell_type": "code",
      "source": [
        "a1 = np.array([1, 2, 3])\n",
        "# a1.shape\n",
        "a1.ndim"
      ],
      "metadata": {
        "colab": {
          "base_uri": "https://localhost:8080/"
        },
        "id": "bMAy8IMDMD1z",
        "outputId": "6036302b-caf0-402e-9da5-607080c54631"
      },
      "execution_count": null,
      "outputs": [
        {
          "output_type": "execute_result",
          "data": {
            "text/plain": [
              "1"
            ]
          },
          "metadata": {},
          "execution_count": 42
        }
      ]
    },
    {
      "cell_type": "code",
      "source": [
        "a3 = np.array([[[1, 2, 3], \n",
        "                [4, 5, 6],\n",
        "                [7, 8, 9]], \n",
        "               [[7, 8, 9], \n",
        "                [10, 11, 12],\n",
        "                [13, 14, 15]]])"
      ],
      "metadata": {
        "id": "CXt4o5t2M3x8"
      },
      "execution_count": null,
      "outputs": []
    },
    {
      "cell_type": "code",
      "source": [
        "a3[:2, :3, :1]        # kesish"
      ],
      "metadata": {
        "colab": {
          "base_uri": "https://localhost:8080/"
        },
        "id": "ioBBCpAINKXm",
        "outputId": "56634a1a-a931-420c-9a8b-79990ee431f3"
      },
      "execution_count": null,
      "outputs": [
        {
          "output_type": "execute_result",
          "data": {
            "text/plain": [
              "array([[[ 1],\n",
              "        [ 4],\n",
              "        [ 7]],\n",
              "\n",
              "       [[ 7],\n",
              "        [10],\n",
              "        [13]]])"
            ]
          },
          "metadata": {},
          "execution_count": 58
        }
      ]
    },
    {
      "cell_type": "code",
      "source": [
        "a3[:, 2:, 2:]"
      ],
      "metadata": {
        "colab": {
          "base_uri": "https://localhost:8080/"
        },
        "id": "oit4Xj4QOF6D",
        "outputId": "fa0d1018-a825-4d10-dad7-88e9a7ca0847"
      },
      "execution_count": null,
      "outputs": [
        {
          "output_type": "execute_result",
          "data": {
            "text/plain": [
              "array([[[ 9]],\n",
              "\n",
              "       [[15]]])"
            ]
          },
          "metadata": {},
          "execution_count": 71
        }
      ]
    },
    {
      "cell_type": "code",
      "source": [
        "ran = np.arange(2, 20+2, 2, dtype = float)\n",
        "ran"
      ],
      "metadata": {
        "colab": {
          "base_uri": "https://localhost:8080/"
        },
        "id": "rZTBJPDsOe1p",
        "outputId": "b3f750af-164d-4edd-d031-f2b505c70ead"
      },
      "execution_count": null,
      "outputs": [
        {
          "output_type": "execute_result",
          "data": {
            "text/plain": [
              "array([ 2.,  4.,  6.,  8., 10., 12., 14., 16., 18., 20.])"
            ]
          },
          "metadata": {},
          "execution_count": 75
        }
      ]
    },
    {
      "cell_type": "code",
      "source": [
        "a4 = np.array([[1, 2, 3], [4, 5, 6]])"
      ],
      "metadata": {
        "id": "0jiHCIJoPpxw"
      },
      "execution_count": null,
      "outputs": []
    },
    {
      "cell_type": "code",
      "source": [
        "a4.T"
      ],
      "metadata": {
        "colab": {
          "base_uri": "https://localhost:8080/"
        },
        "id": "uO6cXiodQOdZ",
        "outputId": "ba3c8ed3-050c-4835-e4e5-34eb53f3c34c"
      },
      "execution_count": null,
      "outputs": [
        {
          "output_type": "execute_result",
          "data": {
            "text/plain": [
              "array([[1, 4],\n",
              "       [2, 5],\n",
              "       [3, 6]])"
            ]
          },
          "metadata": {},
          "execution_count": 77
        }
      ]
    },
    {
      "cell_type": "code",
      "source": [
        "a4.reshape(3, 2)"
      ],
      "metadata": {
        "colab": {
          "base_uri": "https://localhost:8080/"
        },
        "id": "hNkgLBD7QSAC",
        "outputId": "e1fd72c5-dc50-4ed9-8e97-024bb01f77e7"
      },
      "execution_count": null,
      "outputs": [
        {
          "output_type": "execute_result",
          "data": {
            "text/plain": [
              "array([[1, 2],\n",
              "       [3, 4],\n",
              "       [5, 6]])"
            ]
          },
          "metadata": {},
          "execution_count": 80
        }
      ]
    },
    {
      "cell_type": "code",
      "source": [
        "a4.transpose()"
      ],
      "metadata": {
        "colab": {
          "base_uri": "https://localhost:8080/"
        },
        "id": "56A_wXgkQgoa",
        "outputId": "55ec1a79-e0dd-4bf2-b851-39204456799d"
      },
      "execution_count": null,
      "outputs": [
        {
          "output_type": "execute_result",
          "data": {
            "text/plain": [
              "array([[1, 4],\n",
              "       [2, 5],\n",
              "       [3, 6]])"
            ]
          },
          "metadata": {},
          "execution_count": 82
        }
      ]
    },
    {
      "cell_type": "code",
      "source": [
        "a4.min()"
      ],
      "metadata": {
        "colab": {
          "base_uri": "https://localhost:8080/"
        },
        "id": "pSBGuREdRHU-",
        "outputId": "cd1c02ee-0f25-4c4c-c5e0-887f92d5cb7f"
      },
      "execution_count": null,
      "outputs": [
        {
          "output_type": "execute_result",
          "data": {
            "text/plain": [
              "1"
            ]
          },
          "metadata": {},
          "execution_count": 87
        }
      ]
    },
    {
      "cell_type": "code",
      "source": [
        "# mylist = [1, 2, 3, 45, 6, 8, 78, 23, 56, 7686, 123]\n",
        "# print(\"The list is:\")\n",
        "# print(mylist)\n",
        "random_elements = np.random.choice(1,10, 2)\n",
        "print(\"The randomly selected elements are:\")\n",
        "print(random_elements)\n",
        "  "
      ],
      "metadata": {
        "colab": {
          "base_uri": "https://localhost:8080/"
        },
        "id": "bD8vogEXTZmA",
        "outputId": "6273d252-091d-4a2c-b95b-253d3e73e5ee"
      },
      "execution_count": null,
      "outputs": [
        {
          "output_type": "stream",
          "name": "stdout",
          "text": [
            "The randomly selected elements are:\n",
            "[0 0 0 0 0 0 0 0 0 0]\n"
          ]
        }
      ]
    },
    {
      "cell_type": "code",
      "source": [
        "# import choice\n",
        "import numpy as np\n",
        "import matplotlib.pyplot as plt\n",
        "  \n",
        "# Using choice() method\n",
        "gfg = np.random.choice(13, 5000)\n",
        "  \n",
        "count, bins, ignored = plt.hist(gfg, 25, density = False)\n",
        "# plt.show()"
      ],
      "metadata": {
        "id": "kxyQ40eZW0TV"
      },
      "execution_count": null,
      "outputs": []
    },
    {
      "cell_type": "code",
      "source": [
        "fig, ax = plt.subplots(figsize = (10, 6))\n",
        "# plt.show()"
      ],
      "metadata": {
        "id": "892ErHgyYfPM"
      },
      "execution_count": null,
      "outputs": []
    },
    {
      "cell_type": "code",
      "source": [
        "fig, (ax1, ax2) = plt.subplots(1, 2, figsize = (10, 6))\n"
      ],
      "metadata": {
        "id": "sfefcqd8ZN1C"
      },
      "execution_count": null,
      "outputs": []
    },
    {
      "cell_type": "code",
      "source": [
        "mylist1 = [1, 2, 4, 5, 8, 6, 4, 6, 9, 3, 2, 5, 6, 3]\n",
        "for i in range(len(mylist1)):\n",
        "    if(mylist1[i] == 9):\n",
        "        print(i)"
      ],
      "metadata": {
        "colab": {
          "base_uri": "https://localhost:8080/"
        },
        "id": "cSHPCcikZfv1",
        "outputId": "89273357-3a37-4e76-c8cb-5b7a3ad25f9b"
      },
      "execution_count": null,
      "outputs": [
        {
          "output_type": "stream",
          "name": "stdout",
          "text": [
            "8\n"
          ]
        }
      ]
    },
    {
      "cell_type": "code",
      "source": [
        "\n",
        "print(b'\\xC2\\xA9\\x20\\xF0\\x9D\\x8C\\x86\\x20\\xE2\\x98\\x83'.decode('utf-8'))\n",
        "print(b'\\xC2\\xA9\\x20\\xF0\\x9D\\x8C\\x86\\x20\\xE2\\x98\\x83'.decode('latin-1'))"
      ],
      "metadata": {
        "colab": {
          "base_uri": "https://localhost:8080/"
        },
        "id": "cOMISS3odiaQ",
        "outputId": "5aad2727-c214-492b-cc34-e8250225f621"
      },
      "execution_count": null,
      "outputs": [
        {
          "output_type": "stream",
          "name": "stdout",
          "text": [
            "© 𝌆 ☃\n",
            "Â© ð â\n"
          ]
        }
      ]
    },
    {
      "cell_type": "markdown",
      "source": [],
      "metadata": {
        "id": "kWPSzLYNfXbt"
      }
    },
    {
      "cell_type": "code",
      "source": [
        "l = [[[1, 2, 3], \n",
        "      [4, 5, 6]],\n",
        "     [[7, 8, 9],\n",
        "      [10, 11, 12]]]\n",
        "l"
      ],
      "metadata": {
        "colab": {
          "base_uri": "https://localhost:8080/"
        },
        "id": "RgcCyqUPd-4P",
        "outputId": "90f1449d-aec1-4ba3-d31f-226c77ea1f3f"
      },
      "execution_count": null,
      "outputs": [
        {
          "output_type": "execute_result",
          "data": {
            "text/plain": [
              "[[[1, 2, 3], [4, 5, 6]], [[7, 8, 9], [10, 11, 12]]]"
            ]
          },
          "metadata": {},
          "execution_count": 114
        }
      ]
    },
    {
      "cell_type": "code",
      "source": [
        "def func(x):\n",
        "  if x == 1:\n",
        "    return 1\n",
        "  else:\n",
        "    return x * func(x - 1)\n",
        "\n",
        "\n",
        "print(func(5))"
      ],
      "metadata": {
        "colab": {
          "base_uri": "https://localhost:8080/"
        },
        "id": "Ys2FVZ4Oe0l5",
        "outputId": "d180e134-888d-4415-afd9-f5c201fe2740"
      },
      "execution_count": null,
      "outputs": [
        {
          "output_type": "stream",
          "name": "stdout",
          "text": [
            "120\n"
          ]
        }
      ]
    },
    {
      "cell_type": "code",
      "source": [
        "rl = [1, 4, 6, 2, 3, 8, 9, 5, 7]\n",
        "ls = []\n",
        "s = 1\n",
        "for i in range(len(rl)):\n",
        "  if s == rl[i]:\n",
        "    ls.append(i)\n",
        "    s +=1\n",
        "    continue\n",
        "print(ls)\n",
        "\n",
        "def qidir_va_top(x):\n",
        "  rl = [1, 4, 6, 2, 3, 8, 9, 5, 7]\n",
        "\n"
      ],
      "metadata": {
        "colab": {
          "base_uri": "https://localhost:8080/"
        },
        "id": "2A6o3VCXr_Gk",
        "outputId": "493da268-ad06-4b0b-d980-ad33073f6015"
      },
      "execution_count": null,
      "outputs": [
        {
          "output_type": "stream",
          "name": "stdout",
          "text": [
            "[0, 3, 4]\n"
          ]
        }
      ]
    },
    {
      "cell_type": "code",
      "source": [
        "import sys\n",
        "A = [64, 25, 12, 22, 11]\n",
        " \n",
        "for i in range(len(A)):\n",
        "  \n",
        "  min_idx = i\n",
        "for j in range(i+1, len(A)):\n",
        "  if A[min_idx] > A[j]:\n",
        "   min_idx = j\n",
        "\n",
        "A[i], A[min_idx] = A[min_idx], A[i]\n",
        " \n",
        "\n",
        "for i in range(len(A)):\n",
        " print(\"%d\" %A[i]),"
      ],
      "metadata": {
        "colab": {
          "base_uri": "https://localhost:8080/"
        },
        "id": "ZUKDw9pksix0",
        "outputId": "ccdc1e2a-9f9b-434e-d15a-f561efeb6a0b"
      },
      "execution_count": null,
      "outputs": [
        {
          "output_type": "stream",
          "name": "stdout",
          "text": [
            "Sorted array\n",
            "11\n",
            "12\n",
            "22\n",
            "25\n",
            "64\n"
          ]
        }
      ]
    },
    {
      "cell_type": "code",
      "source": [
        "a = [1, 2, 3, 4, 5, 6, 7, 8]\n",
        "arr_mean = np.array(a)\n",
        "arr_mean.mean()"
      ],
      "metadata": {
        "colab": {
          "base_uri": "https://localhost:8080/"
        },
        "id": "S6VUYI7OcmhQ",
        "outputId": "aaa34232-2c8f-4b13-8fa8-9c64d962e03b"
      },
      "execution_count": null,
      "outputs": [
        {
          "output_type": "execute_result",
          "data": {
            "text/plain": [
              "5.25"
            ]
          },
          "metadata": {},
          "execution_count": 8
        }
      ]
    },
    {
      "cell_type": "code",
      "source": [
        "a_sum = sum(a)\n",
        "print(a_sum/8)"
      ],
      "metadata": {
        "colab": {
          "base_uri": "https://localhost:8080/"
        },
        "id": "rG_M66G_d_WT",
        "outputId": "e79b768c-ec53-45e3-8725-342134d5476d"
      },
      "execution_count": null,
      "outputs": [
        {
          "output_type": "stream",
          "name": "stdout",
          "text": [
            "4.5\n"
          ]
        }
      ]
    },
    {
      "cell_type": "code",
      "source": [
        "a_sml = a[0]\n",
        "a_bg = a[-1]\n",
        "a_median = (a_sml + a_bg) / 2\n",
        "a_median"
      ],
      "metadata": {
        "colab": {
          "base_uri": "https://localhost:8080/"
        },
        "id": "tjhmRxXoejM6",
        "outputId": "378e37ce-6b89-4655-aa6a-c75c5b937a8e"
      },
      "execution_count": null,
      "outputs": [
        {
          "output_type": "execute_result",
          "data": {
            "text/plain": [
              "4.5"
            ]
          },
          "metadata": {},
          "execution_count": 7
        }
      ]
    },
    {
      "cell_type": "code",
      "source": [
        "var_lst = [1, 2, 3]                       # mean 2 ga teng\n",
        "var_arr = np.array(var_lst)               # var 3 ga teng\n",
        "var_arr.var()                             # natija 0.666"
      ],
      "metadata": {
        "colab": {
          "base_uri": "https://localhost:8080/"
        },
        "id": "gmPvcsHSfmlc",
        "outputId": "e796a55f-ef9a-4c23-e599-f9c2a3d9b3fd"
      },
      "execution_count": null,
      "outputs": [
        {
          "output_type": "execute_result",
          "data": {
            "text/plain": [
              "0.6666666666666666"
            ]
          },
          "metadata": {},
          "execution_count": 13
        }
      ]
    },
    {
      "cell_type": "code",
      "source": [
        "print(((1 - 2)**2 + (2 - 2)**2 + (3 - 2)**2)/3)"
      ],
      "metadata": {
        "colab": {
          "base_uri": "https://localhost:8080/"
        },
        "id": "kJIzeuv6g8Ig",
        "outputId": "b391697e-aaf5-4d7e-b347-f9e4e04719a3"
      },
      "execution_count": null,
      "outputs": [
        {
          "output_type": "stream",
          "name": "stdout",
          "text": [
            "0.6666666666666666\n"
          ]
        }
      ]
    },
    {
      "cell_type": "code",
      "source": [
        "from flask import Flask\n",
        "\n",
        "app = Flask(__name__)                 # bu doim turishi kerak\n",
        "@app.route(\"/action\")\n",
        "def action():\n",
        "    return \"<p>action, World!</p>\"\n",
        "print(action())"
      ],
      "metadata": {
        "colab": {
          "base_uri": "https://localhost:8080/"
        },
        "id": "wpbs1DWuko5U",
        "outputId": "4f3305a5-3363-4273-a631-d166a9d796b2"
      },
      "execution_count": null,
      "outputs": [
        {
          "output_type": "stream",
          "name": "stdout",
          "text": [
            "<p>Hello, World!</p>\n"
          ]
        }
      ]
    },
    {
      "cell_type": "code",
      "source": [
        "def csv_fayl(url):\n",
        "  rd = pd.read_csv(url)\n",
        "  df = pd.DataFrame(rd)\n",
        "  print(df.Genre)\n",
        "\n",
        "url = 'https://storage.googleapis.com/qwasar-public/track-ds/imdb-movie-data.csv'\n",
        "csv_fayl(url)"
      ],
      "metadata": {
        "colab": {
          "base_uri": "https://localhost:8080/"
        },
        "id": "Go_QjIJ2mQGr",
        "outputId": "96c5c043-f0e8-4b61-e064-fa5830918a21"
      },
      "execution_count": null,
      "outputs": [
        {
          "output_type": "stream",
          "name": "stdout",
          "text": [
            "0       Action,Adventure,Sci-Fi\n",
            "1      Adventure,Mystery,Sci-Fi\n",
            "2               Horror,Thriller\n",
            "3       Animation,Comedy,Family\n",
            "4      Action,Adventure,Fantasy\n",
            "                 ...           \n",
            "995         Crime,Drama,Mystery\n",
            "996                      Horror\n",
            "997         Drama,Music,Romance\n",
            "998            Adventure,Comedy\n",
            "999       Comedy,Family,Fantasy\n",
            "Name: Genre, Length: 1000, dtype: object\n"
          ]
        }
      ]
    },
    {
      "cell_type": "code",
      "source": [
        "import pandas as pd\n",
        "\n",
        "rd = pd.read_csv(url)\n",
        "df = pd.DataFrame(rd)\n",
        "print(df.columns)\n",
        "    # return genre\n",
        "\n",
        "# def action():\n",
        "#     return action\n",
        "\n",
        "# def adventure():\n",
        "#     return adventure\n",
        "\n",
        "# def comedy():\n",
        "#     return comedy\n",
        "\n",
        "# def drama():\n",
        "#     return drama\n",
        "\n",
        "# def romance():\n",
        "#     return romance\n",
        "\n",
        "url = 'https://storage.googleapis.com/qwasar-public/track-ds/imdb-movie-data.csv'\n"
      ],
      "metadata": {
        "colab": {
          "base_uri": "https://localhost:8080/"
        },
        "id": "UkxFcWh6rBRY",
        "outputId": "62efb602-5367-4fdf-e1e5-ffa32a5aa47f"
      },
      "execution_count": null,
      "outputs": [
        {
          "output_type": "stream",
          "name": "stdout",
          "text": [
            "Index(['Rank', 'Title', 'Genre', 'Description', 'Director', 'Actors', 'Year',\n",
            "       'Runtime (Minutes)', 'Rating', 'Votes', 'Revenue (Millions)',\n",
            "       'Metascore'],\n",
            "      dtype='object')\n"
          ]
        }
      ]
    },
    {
      "cell_type": "code",
      "source": [
        "from flask import Flask\n",
        "import pandas as pd\n",
        "\n",
        "url = 'https://storage.googleapis.com/qwasar-public/track-ds/imdb-movie-data.csv'\n",
        "rd = pd.read_csv(url)\n",
        "df = pd.DataFrame(rd)\n",
        "\n",
        "app = Flask(__name__)\n",
        "\n",
        "@app.route(\"/\")\n",
        "def get_genre():\n",
        "  genre = df.Genre\n",
        "  return genre\n",
        "print(get_genre().head())"
      ],
      "metadata": {
        "colab": {
          "base_uri": "https://localhost:8080/"
        },
        "id": "US6husxAWvtt",
        "outputId": "5870ec86-4b8d-47c9-94e5-b6d35bf16b72"
      },
      "execution_count": null,
      "outputs": [
        {
          "output_type": "stream",
          "name": "stdout",
          "text": [
            "0     Action,Adventure,Sci-Fi\n",
            "1    Adventure,Mystery,Sci-Fi\n",
            "2             Horror,Thriller\n",
            "3     Animation,Comedy,Family\n",
            "4    Action,Adventure,Fantasy\n",
            "Name: Genre, dtype: object\n"
          ]
        }
      ]
    },
    {
      "cell_type": "code",
      "source": [],
      "metadata": {
        "id": "uelHJJ21Z7CN"
      },
      "execution_count": null,
      "outputs": []
    }
  ],
  "metadata": {
    "colab": {
      "provenance": [],
      "collapsed_sections": [],
      "authorship_tag": "ABX9TyNkUWdodwUvIjVuTL4QwYfg",
      "include_colab_link": true
    },
    "kernelspec": {
      "display_name": "Python 3",
      "name": "python3"
    },
    "language_info": {
      "name": "python"
    }
  },
  "nbformat": 4,
  "nbformat_minor": 0
}