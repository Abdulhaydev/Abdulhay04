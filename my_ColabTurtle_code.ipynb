{
  "nbformat": 4,
  "nbformat_minor": 0,
  "metadata": {
    "colab": {
      "provenance": [],
      "collapsed_sections": [],
      "authorship_tag": "ABX9TyNYUGnsXTVuUyyz+o3RSHhl",
      "include_colab_link": true
    },
    "kernelspec": {
      "name": "python3",
      "display_name": "Python 3"
    },
    "language_info": {
      "name": "python"
    }
  },
  "cells": [
    {
      "cell_type": "markdown",
      "metadata": {
        "id": "view-in-github",
        "colab_type": "text"
      },
      "source": [
        "<a href=\"https://colab.research.google.com/github/Abdulhay04/Abdulhay04/blob/main/my_ColabTurtle_code.ipynb\" target=\"_parent\"><img src=\"https://colab.research.google.com/assets/colab-badge.svg\" alt=\"Open In Colab\"/></a>"
      ]
    },
    {
      "cell_type": "code",
      "execution_count": null,
      "metadata": {
        "colab": {
          "base_uri": "https://localhost:8080/"
        },
        "id": "ZxWBQ4-j_PIn",
        "outputId": "4880b11e-ad90-488d-fe49-a08dabd13fd4"
      },
      "outputs": [
        {
          "output_type": "stream",
          "name": "stdout",
          "text": [
            "Looking in indexes: https://pypi.org/simple, https://us-python.pkg.dev/colab-wheels/public/simple/\n",
            "Requirement already satisfied: ColabTurtle in /usr/local/lib/python3.7/dist-packages (2.1.0)\n"
          ]
        }
      ],
      "source": [
        "!pip3 install ColabTurtle"
      ]
    },
    {
      "cell_type": "code",
      "source": [
        "from ColabTurtle.Turtle import *\n",
        "from random import randint as rd"
      ],
      "metadata": {
        "id": "2vokxGkTAFd8"
      },
      "execution_count": null,
      "outputs": []
    },
    {
      "cell_type": "code",
      "source": [
        "def initializeTimTheturtle():\n",
        "  initializeTurtle()\n",
        "  penup()\n",
        "  goto()\n",
        "  pendown()\n",
        "  right(90)\n",
        "\n",
        "def drawShapes(num_sides):\n",
        "  color(rd(0, 255), rd(0, 255), rd(0, 255))\n",
        "  for _ in range(num_sides):\n",
        "    angle = 360/num_sides\n",
        "    forward(100)\n",
        "    right(angle)"
      ],
      "metadata": {
        "id": "whw4edbrB_ba"
      },
      "execution_count": 41,
      "outputs": []
    },
    {
      "cell_type": "code",
      "source": [
        "initializeTurtle()\n",
        "drawShapes(4)"
      ],
      "metadata": {
        "colab": {
          "base_uri": "https://localhost:8080/",
          "height": 521
        },
        "id": "vyH34Y-LA-Vl",
        "outputId": "dd4c8f66-23a8-4f98-f97f-50901e7c666d"
      },
      "execution_count": null,
      "outputs": [
        {
          "output_type": "display_data",
          "data": {
            "text/plain": [
              "<IPython.core.display.HTML object>"
            ],
            "text/html": [
              "\n",
              "      <svg width=\"800\" height=\"500\">\n",
              "        <rect width=\"100%\" height=\"100%\" fill=\"black\"/>\n",
              "        <line x1=\"400\" y1=\"250\" x2=\"400.0\" y2=\"150.0\" stroke-linecap=\"round\" style=\"stroke:rgb(149,21,222);stroke-width:4\"/><line x1=\"400.0\" y1=\"150.0\" x2=\"500.0\" y2=\"150.0\" stroke-linecap=\"round\" style=\"stroke:rgb(149,21,222);stroke-width:4\"/><line x1=\"500.0\" y1=\"150.0\" x2=\"500.0\" y2=\"250.0\" stroke-linecap=\"round\" style=\"stroke:rgb(149,21,222);stroke-width:4\"/><line x1=\"500.0\" y1=\"250.0\" x2=\"400.0\" y2=\"250.0\" stroke-linecap=\"round\" style=\"stroke:rgb(149,21,222);stroke-width:4\"/>\n",
              "        <g visibility=visible transform=\"rotate(360.0,400.0,250.0) translate(382.0, 232.0)\">\n",
              "<path style=\" stroke:none;fill-rule:evenodd;fill:rgb(149,21,222);fill-opacity:1;\" d=\"M 18.214844 0.632812 C 16.109375 1.800781 15.011719 4.074219 15.074219 7.132812 L 15.085938 7.652344 L 14.785156 7.496094 C 13.476562 6.824219 11.957031 6.671875 10.40625 7.066406 C 8.46875 7.550781 6.515625 9.15625 4.394531 11.992188 C 3.0625 13.777344 2.679688 14.636719 3.042969 15.027344 L 3.15625 15.152344 L 3.519531 15.152344 C 4.238281 15.152344 4.828125 14.886719 8.1875 13.039062 C 9.386719 12.378906 10.371094 11.839844 10.378906 11.839844 C 10.386719 11.839844 10.355469 11.929688 10.304688 12.035156 C 9.832031 13.09375 9.257812 14.820312 8.96875 16.078125 C 7.914062 20.652344 8.617188 24.53125 11.070312 27.660156 C 11.351562 28.015625 11.363281 27.914062 10.972656 28.382812 C 8.925781 30.84375 7.945312 33.28125 8.238281 35.1875 C 8.289062 35.527344 8.28125 35.523438 8.917969 35.523438 C 10.941406 35.523438 13.074219 34.207031 15.136719 31.6875 C 15.359375 31.417969 15.328125 31.425781 15.5625 31.574219 C 16.292969 32.042969 18.023438 32.964844 18.175781 32.964844 C 18.335938 32.964844 19.941406 32.210938 20.828125 31.71875 C 20.996094 31.625 21.136719 31.554688 21.136719 31.558594 C 21.203125 31.664062 21.898438 32.414062 22.222656 32.730469 C 23.835938 34.300781 25.5625 35.132812 27.582031 35.300781 C 27.90625 35.328125 27.9375 35.308594 28.007812 34.984375 C 28.382812 33.242188 27.625 30.925781 25.863281 28.425781 L 25.542969 27.96875 L 25.699219 27.785156 C 28.945312 23.960938 29.132812 18.699219 26.257812 11.96875 L 26.207031 11.84375 L 27.945312 12.703125 C 31.53125 14.476562 32.316406 14.800781 33.03125 14.800781 C 33.976562 14.800781 33.78125 13.9375 32.472656 12.292969 C 28.519531 7.355469 25.394531 5.925781 21.921875 7.472656 L 21.558594 7.636719 L 21.578125 7.542969 C 21.699219 6.992188 21.761719 5.742188 21.699219 5.164062 C 21.496094 3.296875 20.664062 1.964844 19.003906 0.855469 C 18.480469 0.503906 18.457031 0.5 18.214844 0.632812\"/>\n",
              "</g>\n",
              "      </svg>\n",
              "    "
            ]
          },
          "metadata": {}
        }
      ]
    },
    {
      "cell_type": "code",
      "source": [
        "initializeTurtle()\n",
        "for num_sides in range(3, 21, 1):\n",
        "  print(num_sides)\n",
        "  drawShapes(num_sides)\n"
      ],
      "metadata": {
        "id": "FP64Pu61dRjJ",
        "colab": {
          "base_uri": "https://localhost:8080/",
          "height": 842
        },
        "outputId": "fe48f2a7-e431-4c4a-b382-2efae63c95b2"
      },
      "execution_count": 44,
      "outputs": [
        {
          "output_type": "display_data",
          "data": {
            "text/plain": [
              "<IPython.core.display.HTML object>"
            ],
            "text/html": [
              "\n",
              "      <svg width=\"800\" height=\"500\">\n",
              "        <rect width=\"100%\" height=\"100%\" fill=\"black\"/>\n",
              "        <line x1=\"400\" y1=\"250\" x2=\"400.0\" y2=\"150.0\" stroke-linecap=\"round\" style=\"stroke:rgb(77,89,158);stroke-width:4\"/><line x1=\"400.0\" y1=\"150.0\" x2=\"486.603\" y2=\"200.0\" stroke-linecap=\"round\" style=\"stroke:rgb(77,89,158);stroke-width:4\"/><line x1=\"486.603\" y1=\"200.0\" x2=\"400.0\" y2=\"250.0\" stroke-linecap=\"round\" style=\"stroke:rgb(77,89,158);stroke-width:4\"/><line x1=\"400.0\" y1=\"250.0\" x2=\"400.0\" y2=\"150.0\" stroke-linecap=\"round\" style=\"stroke:rgb(240,173,94);stroke-width:4\"/><line x1=\"400.0\" y1=\"150.0\" x2=\"500.0\" y2=\"150.0\" stroke-linecap=\"round\" style=\"stroke:rgb(240,173,94);stroke-width:4\"/><line x1=\"500.0\" y1=\"150.0\" x2=\"500.0\" y2=\"250.0\" stroke-linecap=\"round\" style=\"stroke:rgb(240,173,94);stroke-width:4\"/><line x1=\"500.0\" y1=\"250.0\" x2=\"400.0\" y2=\"250.0\" stroke-linecap=\"round\" style=\"stroke:rgb(240,173,94);stroke-width:4\"/><line x1=\"400.0\" y1=\"250.0\" x2=\"400.0\" y2=\"150.0\" stroke-linecap=\"round\" style=\"stroke:rgb(159,22,29);stroke-width:4\"/><line x1=\"400.0\" y1=\"150.0\" x2=\"495.106\" y2=\"119.098\" stroke-linecap=\"round\" style=\"stroke:rgb(159,22,29);stroke-width:4\"/><line x1=\"495.106\" y1=\"119.098\" x2=\"553.885\" y2=\"200.0\" stroke-linecap=\"round\" style=\"stroke:rgb(159,22,29);stroke-width:4\"/><line x1=\"553.885\" y1=\"200.0\" x2=\"495.106\" y2=\"280.902\" stroke-linecap=\"round\" style=\"stroke:rgb(159,22,29);stroke-width:4\"/><line x1=\"495.106\" y1=\"280.902\" x2=\"400.0\" y2=\"250.0\" stroke-linecap=\"round\" style=\"stroke:rgb(159,22,29);stroke-width:4\"/><line x1=\"400.0\" y1=\"250.0\" x2=\"400.0\" y2=\"150.0\" stroke-linecap=\"round\" style=\"stroke:rgb(70,171,251);stroke-width:4\"/><line x1=\"400.0\" y1=\"150.0\" x2=\"486.603\" y2=\"100.0\" stroke-linecap=\"round\" style=\"stroke:rgb(70,171,251);stroke-width:4\"/><line x1=\"486.603\" y1=\"100.0\" x2=\"573.206\" y2=\"150.0\" stroke-linecap=\"round\" style=\"stroke:rgb(70,171,251);stroke-width:4\"/><line x1=\"573.206\" y1=\"150.0\" x2=\"573.206\" y2=\"250.0\" stroke-linecap=\"round\" style=\"stroke:rgb(70,171,251);stroke-width:4\"/><line x1=\"573.206\" y1=\"250.0\" x2=\"486.603\" y2=\"300.0\" stroke-linecap=\"round\" style=\"stroke:rgb(70,171,251);stroke-width:4\"/><line x1=\"486.603\" y1=\"300.0\" x2=\"400.0\" y2=\"250.0\" stroke-linecap=\"round\" style=\"stroke:rgb(70,171,251);stroke-width:4\"/><line x1=\"400.0\" y1=\"250.0\" x2=\"400.0\" y2=\"150.0\" stroke-linecap=\"round\" style=\"stroke:rgb(207,119,14);stroke-width:4\"/><line x1=\"400.0\" y1=\"150.0\" x2=\"478.183\" y2=\"87.651\" stroke-linecap=\"round\" style=\"stroke:rgb(207,119,14);stroke-width:4\"/><line x1=\"478.183\" y1=\"87.651\" x2=\"575.676\" y2=\"109.903\" stroke-linecap=\"round\" style=\"stroke:rgb(207,119,14);stroke-width:4\"/><line x1=\"575.676\" y1=\"109.903\" x2=\"619.064\" y2=\"200.0\" stroke-linecap=\"round\" style=\"stroke:rgb(207,119,14);stroke-width:4\"/><line x1=\"619.064\" y1=\"200.0\" x2=\"575.676\" y2=\"290.097\" stroke-linecap=\"round\" style=\"stroke:rgb(207,119,14);stroke-width:4\"/><line x1=\"575.676\" y1=\"290.097\" x2=\"478.183\" y2=\"312.349\" stroke-linecap=\"round\" style=\"stroke:rgb(207,119,14);stroke-width:4\"/><line x1=\"478.183\" y1=\"312.349\" x2=\"400.0\" y2=\"250.0\" stroke-linecap=\"round\" style=\"stroke:rgb(207,119,14);stroke-width:4\"/><line x1=\"400.0\" y1=\"250.0\" x2=\"400.0\" y2=\"150.0\" stroke-linecap=\"round\" style=\"stroke:rgb(177,11,78);stroke-width:4\"/><line x1=\"400.0\" y1=\"150.0\" x2=\"470.711\" y2=\"79.289\" stroke-linecap=\"round\" style=\"stroke:rgb(177,11,78);stroke-width:4\"/><line x1=\"470.711\" y1=\"79.289\" x2=\"570.711\" y2=\"79.289\" stroke-linecap=\"round\" style=\"stroke:rgb(177,11,78);stroke-width:4\"/><line x1=\"570.711\" y1=\"79.289\" x2=\"641.422\" y2=\"150.0\" stroke-linecap=\"round\" style=\"stroke:rgb(177,11,78);stroke-width:4\"/><line x1=\"641.422\" y1=\"150.0\" x2=\"641.422\" y2=\"250.0\" stroke-linecap=\"round\" style=\"stroke:rgb(177,11,78);stroke-width:4\"/><line x1=\"641.422\" y1=\"250.0\" x2=\"570.711\" y2=\"320.711\" stroke-linecap=\"round\" style=\"stroke:rgb(177,11,78);stroke-width:4\"/><line x1=\"570.711\" y1=\"320.711\" x2=\"470.711\" y2=\"320.711\" stroke-linecap=\"round\" style=\"stroke:rgb(177,11,78);stroke-width:4\"/><line x1=\"470.711\" y1=\"320.711\" x2=\"400.0\" y2=\"250.0\" stroke-linecap=\"round\" style=\"stroke:rgb(177,11,78);stroke-width:4\"/><line x1=\"400.0\" y1=\"250.0\" x2=\"400.0\" y2=\"150.0\" stroke-linecap=\"round\" style=\"stroke:rgb(247,1,121);stroke-width:4\"/><line x1=\"400.0\" y1=\"150.0\" x2=\"464.279\" y2=\"73.396\" stroke-linecap=\"round\" style=\"stroke:rgb(247,1,121);stroke-width:4\"/><line x1=\"464.279\" y1=\"73.396\" x2=\"562.76\" y2=\"56.031\" stroke-linecap=\"round\" style=\"stroke:rgb(247,1,121);stroke-width:4\"/><line x1=\"562.76\" y1=\"56.031\" x2=\"649.363\" y2=\"106.031\" stroke-linecap=\"round\" style=\"stroke:rgb(247,1,121);stroke-width:4\"/><line x1=\"649.363\" y1=\"106.031\" x2=\"683.565\" y2=\"200.0\" stroke-linecap=\"round\" style=\"stroke:rgb(247,1,121);stroke-width:4\"/><line x1=\"683.565\" y1=\"200.0\" x2=\"649.363\" y2=\"293.969\" stroke-linecap=\"round\" style=\"stroke:rgb(247,1,121);stroke-width:4\"/><line x1=\"649.363\" y1=\"293.969\" x2=\"562.76\" y2=\"343.969\" stroke-linecap=\"round\" style=\"stroke:rgb(247,1,121);stroke-width:4\"/><line x1=\"562.76\" y1=\"343.969\" x2=\"464.279\" y2=\"326.604\" stroke-linecap=\"round\" style=\"stroke:rgb(247,1,121);stroke-width:4\"/><line x1=\"464.279\" y1=\"326.604\" x2=\"400.0\" y2=\"250.0\" stroke-linecap=\"round\" style=\"stroke:rgb(247,1,121);stroke-width:4\"/><line x1=\"400.0\" y1=\"250.0\" x2=\"400.0\" y2=\"150.0\" stroke-linecap=\"round\" style=\"stroke:rgb(146,8,123);stroke-width:4\"/><line x1=\"400.0\" y1=\"150.0\" x2=\"458.779\" y2=\"69.098\" stroke-linecap=\"round\" style=\"stroke:rgb(146,8,123);stroke-width:4\"/><line x1=\"458.779\" y1=\"69.098\" x2=\"553.885\" y2=\"38.196\" stroke-linecap=\"round\" style=\"stroke:rgb(146,8,123);stroke-width:4\"/><line x1=\"553.885\" y1=\"38.196\" x2=\"648.991\" y2=\"69.098\" stroke-linecap=\"round\" style=\"stroke:rgb(146,8,123);stroke-width:4\"/><line x1=\"648.991\" y1=\"69.098\" x2=\"707.77\" y2=\"150.0\" stroke-linecap=\"round\" style=\"stroke:rgb(146,8,123);stroke-width:4\"/><line x1=\"707.77\" y1=\"150.0\" x2=\"707.77\" y2=\"250.0\" stroke-linecap=\"round\" style=\"stroke:rgb(146,8,123);stroke-width:4\"/><line x1=\"707.77\" y1=\"250.0\" x2=\"648.991\" y2=\"330.902\" stroke-linecap=\"round\" style=\"stroke:rgb(146,8,123);stroke-width:4\"/><line x1=\"648.991\" y1=\"330.902\" x2=\"553.885\" y2=\"361.804\" stroke-linecap=\"round\" style=\"stroke:rgb(146,8,123);stroke-width:4\"/><line x1=\"553.885\" y1=\"361.804\" x2=\"458.779\" y2=\"330.902\" stroke-linecap=\"round\" style=\"stroke:rgb(146,8,123);stroke-width:4\"/><line x1=\"458.779\" y1=\"330.902\" x2=\"400.0\" y2=\"250.0\" stroke-linecap=\"round\" style=\"stroke:rgb(146,8,123);stroke-width:4\"/><line x1=\"400.0\" y1=\"250.0\" x2=\"400.0\" y2=\"150.0\" stroke-linecap=\"round\" style=\"stroke:rgb(42,203,223);stroke-width:4\"/><line x1=\"400.0\" y1=\"150.0\" x2=\"454.064\" y2=\"65.875\" stroke-linecap=\"round\" style=\"stroke:rgb(42,203,223);stroke-width:4\"/><line x1=\"454.064\" y1=\"65.875\" x2=\"545.027\" y2=\"24.333\" stroke-linecap=\"round\" style=\"stroke:rgb(42,203,223);stroke-width:4\"/><line x1=\"545.027\" y1=\"24.333\" x2=\"644.009\" y2=\"38.564\" stroke-linecap=\"round\" style=\"stroke:rgb(42,203,223);stroke-width:4\"/><line x1=\"644.009\" y1=\"38.564\" x2=\"719.584\" y2=\"104.05\" stroke-linecap=\"round\" style=\"stroke:rgb(42,203,223);stroke-width:4\"/><line x1=\"719.584\" y1=\"104.05\" x2=\"747.757\" y2=\"199.999\" stroke-linecap=\"round\" style=\"stroke:rgb(42,203,223);stroke-width:4\"/><line x1=\"747.757\" y1=\"199.999\" x2=\"719.584\" y2=\"295.948\" stroke-linecap=\"round\" style=\"stroke:rgb(42,203,223);stroke-width:4\"/><line x1=\"719.584\" y1=\"295.948\" x2=\"644.009\" y2=\"361.434\" stroke-linecap=\"round\" style=\"stroke:rgb(42,203,223);stroke-width:4\"/><line x1=\"644.009\" y1=\"361.434\" x2=\"545.027\" y2=\"375.665\" stroke-linecap=\"round\" style=\"stroke:rgb(42,203,223);stroke-width:4\"/><line x1=\"545.027\" y1=\"375.665\" x2=\"454.064\" y2=\"334.123\" stroke-linecap=\"round\" style=\"stroke:rgb(42,203,223);stroke-width:4\"/><line x1=\"454.064\" y1=\"334.123\" x2=\"400.0\" y2=\"249.998\" stroke-linecap=\"round\" style=\"stroke:rgb(42,203,223);stroke-width:4\"/><line x1=\"400.0\" y1=\"249.998\" x2=\"400.0\" y2=\"149.998\" stroke-linecap=\"round\" style=\"stroke:rgb(89,39,207);stroke-width:4\"/><line x1=\"400.0\" y1=\"149.998\" x2=\"450.0\" y2=\"63.395\" stroke-linecap=\"round\" style=\"stroke:rgb(89,39,207);stroke-width:4\"/><line x1=\"450.0\" y1=\"63.395\" x2=\"536.603\" y2=\"13.395\" stroke-linecap=\"round\" style=\"stroke:rgb(89,39,207);stroke-width:4\"/><line x1=\"536.603\" y1=\"13.395\" x2=\"636.603\" y2=\"13.395\" stroke-linecap=\"round\" style=\"stroke:rgb(89,39,207);stroke-width:4\"/><line x1=\"636.603\" y1=\"13.395\" x2=\"723.206\" y2=\"63.395\" stroke-linecap=\"round\" style=\"stroke:rgb(89,39,207);stroke-width:4\"/><line x1=\"723.206\" y1=\"63.395\" x2=\"773.206\" y2=\"149.998\" stroke-linecap=\"round\" style=\"stroke:rgb(89,39,207);stroke-width:4\"/><line x1=\"773.206\" y1=\"149.998\" x2=\"773.206\" y2=\"249.998\" stroke-linecap=\"round\" style=\"stroke:rgb(89,39,207);stroke-width:4\"/><line x1=\"773.206\" y1=\"249.998\" x2=\"723.206\" y2=\"336.601\" stroke-linecap=\"round\" style=\"stroke:rgb(89,39,207);stroke-width:4\"/><line x1=\"723.206\" y1=\"336.601\" x2=\"636.603\" y2=\"386.601\" stroke-linecap=\"round\" style=\"stroke:rgb(89,39,207);stroke-width:4\"/><line x1=\"636.603\" y1=\"386.601\" x2=\"536.603\" y2=\"386.601\" stroke-linecap=\"round\" style=\"stroke:rgb(89,39,207);stroke-width:4\"/><line x1=\"536.603\" y1=\"386.601\" x2=\"450.0\" y2=\"336.601\" stroke-linecap=\"round\" style=\"stroke:rgb(89,39,207);stroke-width:4\"/><line x1=\"450.0\" y1=\"336.601\" x2=\"400.0\" y2=\"249.998\" stroke-linecap=\"round\" style=\"stroke:rgb(89,39,207);stroke-width:4\"/><line x1=\"400.0\" y1=\"249.998\" x2=\"400.0\" y2=\"149.998\" stroke-linecap=\"round\" style=\"stroke:rgb(153,110,253);stroke-width:4\"/><line x1=\"400.0\" y1=\"149.998\" x2=\"446.472\" y2=\"61.452\" stroke-linecap=\"round\" style=\"stroke:rgb(153,110,253);stroke-width:4\"/><line x1=\"446.472\" y1=\"61.452\" x2=\"528.77\" y2=\"4.646\" stroke-linecap=\"round\" style=\"stroke:rgb(153,110,253);stroke-width:4\"/><line x1=\"528.77\" y1=\"4.646\" x2=\"628.041\" y2=\"-7.408\" stroke-linecap=\"round\" style=\"stroke:rgb(153,110,253);stroke-width:4\"/><line x1=\"628.041\" y1=\"-7.408\" x2=\"721.543\" y2=\"28.052\" stroke-linecap=\"round\" style=\"stroke:rgb(153,110,253);stroke-width:4\"/><line x1=\"721.543\" y1=\"28.052\" x2=\"787.855\" y2=\"102.903\" stroke-linecap=\"round\" style=\"stroke:rgb(153,110,253);stroke-width:4\"/><line x1=\"787.855\" y1=\"102.903\" x2=\"811.787\" y2=\"199.997\" stroke-linecap=\"round\" style=\"stroke:rgb(153,110,253);stroke-width:4\"/><line x1=\"811.787\" y1=\"199.997\" x2=\"787.855\" y2=\"297.091\" stroke-linecap=\"round\" style=\"stroke:rgb(153,110,253);stroke-width:4\"/><line x1=\"787.855\" y1=\"297.091\" x2=\"721.543\" y2=\"371.942\" stroke-linecap=\"round\" style=\"stroke:rgb(153,110,253);stroke-width:4\"/><line x1=\"721.543\" y1=\"371.942\" x2=\"628.041\" y2=\"407.402\" stroke-linecap=\"round\" style=\"stroke:rgb(153,110,253);stroke-width:4\"/><line x1=\"628.041\" y1=\"407.402\" x2=\"528.77\" y2=\"395.348\" stroke-linecap=\"round\" style=\"stroke:rgb(153,110,253);stroke-width:4\"/><line x1=\"528.77\" y1=\"395.348\" x2=\"446.472\" y2=\"338.542\" stroke-linecap=\"round\" style=\"stroke:rgb(153,110,253);stroke-width:4\"/><line x1=\"446.472\" y1=\"338.542\" x2=\"400.0\" y2=\"249.996\" stroke-linecap=\"round\" style=\"stroke:rgb(153,110,253);stroke-width:4\"/><line x1=\"400.0\" y1=\"249.996\" x2=\"400.0\" y2=\"149.996\" stroke-linecap=\"round\" style=\"stroke:rgb(3,204,238);stroke-width:4\"/><line x1=\"400.0\" y1=\"149.996\" x2=\"443.388\" y2=\"59.899\" stroke-linecap=\"round\" style=\"stroke:rgb(3,204,238);stroke-width:4\"/><line x1=\"443.388\" y1=\"59.899\" x2=\"521.571\" y2=\"-2.45\" stroke-linecap=\"round\" style=\"stroke:rgb(3,204,238);stroke-width:4\"/><line x1=\"521.571\" y1=\"-2.45\" x2=\"619.064\" y2=\"-24.702\" stroke-linecap=\"round\" style=\"stroke:rgb(3,204,238);stroke-width:4\"/><line x1=\"619.064\" y1=\"-24.702\" x2=\"716.557\" y2=\"-2.45\" stroke-linecap=\"round\" style=\"stroke:rgb(3,204,238);stroke-width:4\"/><line x1=\"716.557\" y1=\"-2.45\" x2=\"794.74\" y2=\"59.899\" stroke-linecap=\"round\" style=\"stroke:rgb(3,204,238);stroke-width:4\"/><line x1=\"794.74\" y1=\"59.899\" x2=\"838.128\" y2=\"149.996\" stroke-linecap=\"round\" style=\"stroke:rgb(3,204,238);stroke-width:4\"/><line x1=\"838.128\" y1=\"149.996\" x2=\"838.128\" y2=\"249.996\" stroke-linecap=\"round\" style=\"stroke:rgb(3,204,238);stroke-width:4\"/><line x1=\"838.128\" y1=\"249.996\" x2=\"794.74\" y2=\"340.093\" stroke-linecap=\"round\" style=\"stroke:rgb(3,204,238);stroke-width:4\"/><line x1=\"794.74\" y1=\"340.093\" x2=\"716.557\" y2=\"402.442\" stroke-linecap=\"round\" style=\"stroke:rgb(3,204,238);stroke-width:4\"/><line x1=\"716.557\" y1=\"402.442\" x2=\"619.064\" y2=\"424.694\" stroke-linecap=\"round\" style=\"stroke:rgb(3,204,238);stroke-width:4\"/><line x1=\"619.064\" y1=\"424.694\" x2=\"521.571\" y2=\"402.442\" stroke-linecap=\"round\" style=\"stroke:rgb(3,204,238);stroke-width:4\"/><line x1=\"521.571\" y1=\"402.442\" x2=\"443.388\" y2=\"340.093\" stroke-linecap=\"round\" style=\"stroke:rgb(3,204,238);stroke-width:4\"/><line x1=\"443.388\" y1=\"340.093\" x2=\"400.0\" y2=\"249.996\" stroke-linecap=\"round\" style=\"stroke:rgb(3,204,238);stroke-width:4\"/><line x1=\"400.0\" y1=\"249.996\" x2=\"400.0\" y2=\"149.996\" stroke-linecap=\"round\" style=\"stroke:rgb(184,145,171);stroke-width:4\"/><line x1=\"400.0\" y1=\"149.996\" x2=\"440.674\" y2=\"58.641\" stroke-linecap=\"round\" style=\"stroke:rgb(184,145,171);stroke-width:4\"/><line x1=\"440.674\" y1=\"58.641\" x2=\"514.988\" y2=\"-8.272\" stroke-linecap=\"round\" style=\"stroke:rgb(184,145,171);stroke-width:4\"/><line x1=\"514.988\" y1=\"-8.272\" x2=\"610.094\" y2=\"-39.174\" stroke-linecap=\"round\" style=\"stroke:rgb(184,145,171);stroke-width:4\"/><line x1=\"610.094\" y1=\"-39.174\" x2=\"709.546\" y2=\"-28.721\" stroke-linecap=\"round\" style=\"stroke:rgb(184,145,171);stroke-width:4\"/><line x1=\"709.546\" y1=\"-28.721\" x2=\"796.149\" y2=\"21.279\" stroke-linecap=\"round\" style=\"stroke:rgb(184,145,171);stroke-width:4\"/><line x1=\"796.149\" y1=\"21.279\" x2=\"854.928\" y2=\"102.181\" stroke-linecap=\"round\" style=\"stroke:rgb(184,145,171);stroke-width:4\"/><line x1=\"854.928\" y1=\"102.181\" x2=\"875.719\" y2=\"199.996\" stroke-linecap=\"round\" style=\"stroke:rgb(184,145,171);stroke-width:4\"/><line x1=\"875.719\" y1=\"199.996\" x2=\"854.928\" y2=\"297.811\" stroke-linecap=\"round\" style=\"stroke:rgb(184,145,171);stroke-width:4\"/><line x1=\"854.928\" y1=\"297.811\" x2=\"796.149\" y2=\"378.713\" stroke-linecap=\"round\" style=\"stroke:rgb(184,145,171);stroke-width:4\"/><line x1=\"796.149\" y1=\"378.713\" x2=\"709.546\" y2=\"428.713\" stroke-linecap=\"round\" style=\"stroke:rgb(184,145,171);stroke-width:4\"/><line x1=\"709.546\" y1=\"428.713\" x2=\"610.094\" y2=\"439.166\" stroke-linecap=\"round\" style=\"stroke:rgb(184,145,171);stroke-width:4\"/><line x1=\"610.094\" y1=\"439.166\" x2=\"514.988\" y2=\"408.264\" stroke-linecap=\"round\" style=\"stroke:rgb(184,145,171);stroke-width:4\"/><line x1=\"514.988\" y1=\"408.264\" x2=\"440.674\" y2=\"341.351\" stroke-linecap=\"round\" style=\"stroke:rgb(184,145,171);stroke-width:4\"/><line x1=\"440.674\" y1=\"341.351\" x2=\"400.0\" y2=\"249.996\" stroke-linecap=\"round\" style=\"stroke:rgb(184,145,171);stroke-width:4\"/><line x1=\"400.0\" y1=\"249.996\" x2=\"400.0\" y2=\"149.996\" stroke-linecap=\"round\" style=\"stroke:rgb(251,25,161);stroke-width:4\"/><line x1=\"400.0\" y1=\"149.996\" x2=\"438.268\" y2=\"57.608\" stroke-linecap=\"round\" style=\"stroke:rgb(251,25,161);stroke-width:4\"/><line x1=\"438.268\" y1=\"57.608\" x2=\"508.979\" y2=\"-13.103\" stroke-linecap=\"round\" style=\"stroke:rgb(251,25,161);stroke-width:4\"/><line x1=\"508.979\" y1=\"-13.103\" x2=\"601.367\" y2=\"-51.371\" stroke-linecap=\"round\" style=\"stroke:rgb(251,25,161);stroke-width:4\"/><line x1=\"601.367\" y1=\"-51.371\" x2=\"701.367\" y2=\"-51.371\" stroke-linecap=\"round\" style=\"stroke:rgb(251,25,161);stroke-width:4\"/><line x1=\"701.367\" y1=\"-51.371\" x2=\"793.755\" y2=\"-13.103\" stroke-linecap=\"round\" style=\"stroke:rgb(251,25,161);stroke-width:4\"/><line x1=\"793.755\" y1=\"-13.103\" x2=\"864.466\" y2=\"57.608\" stroke-linecap=\"round\" style=\"stroke:rgb(251,25,161);stroke-width:4\"/><line x1=\"864.466\" y1=\"57.608\" x2=\"902.734\" y2=\"149.996\" stroke-linecap=\"round\" style=\"stroke:rgb(251,25,161);stroke-width:4\"/><line x1=\"902.734\" y1=\"149.996\" x2=\"902.734\" y2=\"249.996\" stroke-linecap=\"round\" style=\"stroke:rgb(251,25,161);stroke-width:4\"/><line x1=\"902.734\" y1=\"249.996\" x2=\"864.466\" y2=\"342.384\" stroke-linecap=\"round\" style=\"stroke:rgb(251,25,161);stroke-width:4\"/><line x1=\"864.466\" y1=\"342.384\" x2=\"793.755\" y2=\"413.095\" stroke-linecap=\"round\" style=\"stroke:rgb(251,25,161);stroke-width:4\"/><line x1=\"793.755\" y1=\"413.095\" x2=\"701.367\" y2=\"451.363\" stroke-linecap=\"round\" style=\"stroke:rgb(251,25,161);stroke-width:4\"/><line x1=\"701.367\" y1=\"451.363\" x2=\"601.367\" y2=\"451.363\" stroke-linecap=\"round\" style=\"stroke:rgb(251,25,161);stroke-width:4\"/><line x1=\"601.367\" y1=\"451.363\" x2=\"508.979\" y2=\"413.095\" stroke-linecap=\"round\" style=\"stroke:rgb(251,25,161);stroke-width:4\"/><line x1=\"508.979\" y1=\"413.095\" x2=\"438.268\" y2=\"342.384\" stroke-linecap=\"round\" style=\"stroke:rgb(251,25,161);stroke-width:4\"/><line x1=\"438.268\" y1=\"342.384\" x2=\"400.0\" y2=\"249.996\" stroke-linecap=\"round\" style=\"stroke:rgb(251,25,161);stroke-width:4\"/><line x1=\"400.0\" y1=\"249.996\" x2=\"400.0\" y2=\"149.996\" stroke-linecap=\"round\" style=\"stroke:rgb(116,23,131);stroke-width:4\"/><line x1=\"400.0\" y1=\"149.996\" x2=\"436.124\" y2=\"56.749\" stroke-linecap=\"round\" style=\"stroke:rgb(116,23,131);stroke-width:4\"/><line x1=\"436.124\" y1=\"56.749\" x2=\"503.494\" y2=\"-17.152\" stroke-linecap=\"round\" style=\"stroke:rgb(116,23,131);stroke-width:4\"/><line x1=\"503.494\" y1=\"-17.152\" x2=\"593.01\" y2=\"-61.726\" stroke-linecap=\"round\" style=\"stroke:rgb(116,23,131);stroke-width:4\"/><line x1=\"593.01\" y1=\"-61.726\" x2=\"692.583\" y2=\"-70.953\" stroke-linecap=\"round\" style=\"stroke:rgb(116,23,131);stroke-width:4\"/><line x1=\"692.583\" y1=\"-70.953\" x2=\"788.766\" y2=\"-43.587\" stroke-linecap=\"round\" style=\"stroke:rgb(116,23,131);stroke-width:4\"/><line x1=\"788.766\" y1=\"-43.587\" x2=\"868.568\" y2=\"16.676\" stroke-linecap=\"round\" style=\"stroke:rgb(116,23,131);stroke-width:4\"/><line x1=\"868.568\" y1=\"16.676\" x2=\"921.211\" y2=\"101.698\" stroke-linecap=\"round\" style=\"stroke:rgb(116,23,131);stroke-width:4\"/><line x1=\"921.211\" y1=\"101.698\" x2=\"939.586\" y2=\"199.995\" stroke-linecap=\"round\" style=\"stroke:rgb(116,23,131);stroke-width:4\"/><line x1=\"939.586\" y1=\"199.995\" x2=\"921.211\" y2=\"298.292\" stroke-linecap=\"round\" style=\"stroke:rgb(116,23,131);stroke-width:4\"/><line x1=\"921.211\" y1=\"298.292\" x2=\"868.568\" y2=\"383.314\" stroke-linecap=\"round\" style=\"stroke:rgb(116,23,131);stroke-width:4\"/><line x1=\"868.568\" y1=\"383.314\" x2=\"788.766\" y2=\"443.577\" stroke-linecap=\"round\" style=\"stroke:rgb(116,23,131);stroke-width:4\"/><line x1=\"788.766\" y1=\"443.577\" x2=\"692.583\" y2=\"470.943\" stroke-linecap=\"round\" style=\"stroke:rgb(116,23,131);stroke-width:4\"/><line x1=\"692.583\" y1=\"470.943\" x2=\"593.01\" y2=\"461.716\" stroke-linecap=\"round\" style=\"stroke:rgb(116,23,131);stroke-width:4\"/><line x1=\"593.01\" y1=\"461.716\" x2=\"503.494\" y2=\"417.142\" stroke-linecap=\"round\" style=\"stroke:rgb(116,23,131);stroke-width:4\"/><line x1=\"503.494\" y1=\"417.142\" x2=\"436.124\" y2=\"343.241\" stroke-linecap=\"round\" style=\"stroke:rgb(116,23,131);stroke-width:4\"/><line x1=\"436.124\" y1=\"343.241\" x2=\"400.0\" y2=\"249.994\" stroke-linecap=\"round\" style=\"stroke:rgb(116,23,131);stroke-width:4\"/><line x1=\"400.0\" y1=\"249.994\" x2=\"400.0\" y2=\"149.994\" stroke-linecap=\"round\" style=\"stroke:rgb(37,53,132);stroke-width:4\"/><line x1=\"400.0\" y1=\"149.994\" x2=\"434.202\" y2=\"56.025\" stroke-linecap=\"round\" style=\"stroke:rgb(37,53,132);stroke-width:4\"/><line x1=\"434.202\" y1=\"56.025\" x2=\"498.481\" y2=\"-20.579\" stroke-linecap=\"round\" style=\"stroke:rgb(37,53,132);stroke-width:4\"/><line x1=\"498.481\" y1=\"-20.579\" x2=\"585.084\" y2=\"-70.579\" stroke-linecap=\"round\" style=\"stroke:rgb(37,53,132);stroke-width:4\"/><line x1=\"585.084\" y1=\"-70.579\" x2=\"683.565\" y2=\"-87.944\" stroke-linecap=\"round\" style=\"stroke:rgb(37,53,132);stroke-width:4\"/><line x1=\"683.565\" y1=\"-87.944\" x2=\"782.046\" y2=\"-70.579\" stroke-linecap=\"round\" style=\"stroke:rgb(37,53,132);stroke-width:4\"/><line x1=\"782.046\" y1=\"-70.579\" x2=\"868.649\" y2=\"-20.579\" stroke-linecap=\"round\" style=\"stroke:rgb(37,53,132);stroke-width:4\"/><line x1=\"868.649\" y1=\"-20.579\" x2=\"932.928\" y2=\"56.025\" stroke-linecap=\"round\" style=\"stroke:rgb(37,53,132);stroke-width:4\"/><line x1=\"932.928\" y1=\"56.025\" x2=\"967.13\" y2=\"149.994\" stroke-linecap=\"round\" style=\"stroke:rgb(37,53,132);stroke-width:4\"/><line x1=\"967.13\" y1=\"149.994\" x2=\"967.13\" y2=\"249.994\" stroke-linecap=\"round\" style=\"stroke:rgb(37,53,132);stroke-width:4\"/><line x1=\"967.13\" y1=\"249.994\" x2=\"932.928\" y2=\"343.963\" stroke-linecap=\"round\" style=\"stroke:rgb(37,53,132);stroke-width:4\"/><line x1=\"932.928\" y1=\"343.963\" x2=\"868.649\" y2=\"420.567\" stroke-linecap=\"round\" style=\"stroke:rgb(37,53,132);stroke-width:4\"/><line x1=\"868.649\" y1=\"420.567\" x2=\"782.046\" y2=\"470.567\" stroke-linecap=\"round\" style=\"stroke:rgb(37,53,132);stroke-width:4\"/><line x1=\"782.046\" y1=\"470.567\" x2=\"683.565\" y2=\"487.932\" stroke-linecap=\"round\" style=\"stroke:rgb(37,53,132);stroke-width:4\"/><line x1=\"683.565\" y1=\"487.932\" x2=\"585.084\" y2=\"470.567\" stroke-linecap=\"round\" style=\"stroke:rgb(37,53,132);stroke-width:4\"/><line x1=\"585.084\" y1=\"470.567\" x2=\"498.481\" y2=\"420.567\" stroke-linecap=\"round\" style=\"stroke:rgb(37,53,132);stroke-width:4\"/><line x1=\"498.481\" y1=\"420.567\" x2=\"434.202\" y2=\"343.963\" stroke-linecap=\"round\" style=\"stroke:rgb(37,53,132);stroke-width:4\"/><line x1=\"434.202\" y1=\"343.963\" x2=\"400.0\" y2=\"249.994\" stroke-linecap=\"round\" style=\"stroke:rgb(37,53,132);stroke-width:4\"/><line x1=\"400.0\" y1=\"249.994\" x2=\"400.0\" y2=\"149.994\" stroke-linecap=\"round\" style=\"stroke:rgb(179,228,59);stroke-width:4\"/><line x1=\"400.0\" y1=\"149.994\" x2=\"432.47\" y2=\"55.412\" stroke-linecap=\"round\" style=\"stroke:rgb(179,228,59);stroke-width:4\"/><line x1=\"432.47\" y1=\"55.412\" x2=\"493.891\" y2=\"-23.502\" stroke-linecap=\"round\" style=\"stroke:rgb(179,228,59);stroke-width:4\"/><line x1=\"493.891\" y1=\"-23.502\" x2=\"577.608\" y2=\"-78.197\" stroke-linecap=\"round\" style=\"stroke:rgb(179,228,59);stroke-width:4\"/><line x1=\"577.608\" y1=\"-78.197\" x2=\"674.548\" y2=\"-102.746\" stroke-linecap=\"round\" style=\"stroke:rgb(179,228,59);stroke-width:4\"/><line x1=\"674.548\" y1=\"-102.746\" x2=\"774.206\" y2=\"-94.488\" stroke-linecap=\"round\" style=\"stroke:rgb(179,228,59);stroke-width:4\"/><line x1=\"774.206\" y1=\"-94.488\" x2=\"865.783\" y2=\"-54.318\" stroke-linecap=\"round\" style=\"stroke:rgb(179,228,59);stroke-width:4\"/><line x1=\"865.783\" y1=\"-54.318\" x2=\"939.355\" y2=\"13.41\" stroke-linecap=\"round\" style=\"stroke:rgb(179,228,59);stroke-width:4\"/><line x1=\"939.355\" y1=\"13.41\" x2=\"986.95\" y2=\"101.357\" stroke-linecap=\"round\" style=\"stroke:rgb(179,228,59);stroke-width:4\"/><line x1=\"986.95\" y1=\"101.357\" x2=\"1003.409\" y2=\"199.993\" stroke-linecap=\"round\" style=\"stroke:rgb(179,228,59);stroke-width:4\"/><line x1=\"1003.409\" y1=\"199.993\" x2=\"986.95\" y2=\"298.629\" stroke-linecap=\"round\" style=\"stroke:rgb(179,228,59);stroke-width:4\"/><line x1=\"986.95\" y1=\"298.629\" x2=\"939.355\" y2=\"386.576\" stroke-linecap=\"round\" style=\"stroke:rgb(179,228,59);stroke-width:4\"/><line x1=\"939.355\" y1=\"386.576\" x2=\"865.783\" y2=\"454.304\" stroke-linecap=\"round\" style=\"stroke:rgb(179,228,59);stroke-width:4\"/><line x1=\"865.783\" y1=\"454.304\" x2=\"774.206\" y2=\"494.474\" stroke-linecap=\"round\" style=\"stroke:rgb(179,228,59);stroke-width:4\"/><line x1=\"774.206\" y1=\"494.474\" x2=\"674.548\" y2=\"502.732\" stroke-linecap=\"round\" style=\"stroke:rgb(179,228,59);stroke-width:4\"/><line x1=\"674.548\" y1=\"502.732\" x2=\"577.608\" y2=\"478.183\" stroke-linecap=\"round\" style=\"stroke:rgb(179,228,59);stroke-width:4\"/><line x1=\"577.608\" y1=\"478.183\" x2=\"493.891\" y2=\"423.488\" stroke-linecap=\"round\" style=\"stroke:rgb(179,228,59);stroke-width:4\"/><line x1=\"493.891\" y1=\"423.488\" x2=\"432.47\" y2=\"344.574\" stroke-linecap=\"round\" style=\"stroke:rgb(179,228,59);stroke-width:4\"/><line x1=\"432.47\" y1=\"344.574\" x2=\"400.0\" y2=\"249.992\" stroke-linecap=\"round\" style=\"stroke:rgb(179,228,59);stroke-width:4\"/><line x1=\"400.0\" y1=\"249.992\" x2=\"400.0\" y2=\"149.992\" stroke-linecap=\"round\" style=\"stroke:rgb(82,68,75);stroke-width:4\"/><line x1=\"400.0\" y1=\"149.992\" x2=\"430.902\" y2=\"54.886\" stroke-linecap=\"round\" style=\"stroke:rgb(82,68,75);stroke-width:4\"/><line x1=\"430.902\" y1=\"54.886\" x2=\"489.681\" y2=\"-26.016\" stroke-linecap=\"round\" style=\"stroke:rgb(82,68,75);stroke-width:4\"/><line x1=\"489.681\" y1=\"-26.016\" x2=\"570.583\" y2=\"-84.795\" stroke-linecap=\"round\" style=\"stroke:rgb(82,68,75);stroke-width:4\"/><line x1=\"570.583\" y1=\"-84.795\" x2=\"665.689\" y2=\"-115.697\" stroke-linecap=\"round\" style=\"stroke:rgb(82,68,75);stroke-width:4\"/><line x1=\"665.689\" y1=\"-115.697\" x2=\"765.689\" y2=\"-115.697\" stroke-linecap=\"round\" style=\"stroke:rgb(82,68,75);stroke-width:4\"/><line x1=\"765.689\" y1=\"-115.697\" x2=\"860.795\" y2=\"-84.795\" stroke-linecap=\"round\" style=\"stroke:rgb(82,68,75);stroke-width:4\"/><line x1=\"860.795\" y1=\"-84.795\" x2=\"941.697\" y2=\"-26.016\" stroke-linecap=\"round\" style=\"stroke:rgb(82,68,75);stroke-width:4\"/><line x1=\"941.697\" y1=\"-26.016\" x2=\"1000.476\" y2=\"54.886\" stroke-linecap=\"round\" style=\"stroke:rgb(82,68,75);stroke-width:4\"/><line x1=\"1000.476\" y1=\"54.886\" x2=\"1031.378\" y2=\"149.992\" stroke-linecap=\"round\" style=\"stroke:rgb(82,68,75);stroke-width:4\"/><line x1=\"1031.378\" y1=\"149.992\" x2=\"1031.378\" y2=\"249.992\" stroke-linecap=\"round\" style=\"stroke:rgb(82,68,75);stroke-width:4\"/><line x1=\"1031.378\" y1=\"249.992\" x2=\"1000.476\" y2=\"345.098\" stroke-linecap=\"round\" style=\"stroke:rgb(82,68,75);stroke-width:4\"/><line x1=\"1000.476\" y1=\"345.098\" x2=\"941.697\" y2=\"426.0\" stroke-linecap=\"round\" style=\"stroke:rgb(82,68,75);stroke-width:4\"/><line x1=\"941.697\" y1=\"426.0\" x2=\"860.795\" y2=\"484.779\" stroke-linecap=\"round\" style=\"stroke:rgb(82,68,75);stroke-width:4\"/><line x1=\"860.795\" y1=\"484.779\" x2=\"765.689\" y2=\"515.681\" stroke-linecap=\"round\" style=\"stroke:rgb(82,68,75);stroke-width:4\"/><line x1=\"765.689\" y1=\"515.681\" x2=\"665.689\" y2=\"515.681\" stroke-linecap=\"round\" style=\"stroke:rgb(82,68,75);stroke-width:4\"/><line x1=\"665.689\" y1=\"515.681\" x2=\"570.583\" y2=\"484.779\" stroke-linecap=\"round\" style=\"stroke:rgb(82,68,75);stroke-width:4\"/><line x1=\"570.583\" y1=\"484.779\" x2=\"489.681\" y2=\"426.0\" stroke-linecap=\"round\" style=\"stroke:rgb(82,68,75);stroke-width:4\"/><line x1=\"489.681\" y1=\"426.0\" x2=\"430.902\" y2=\"345.098\" stroke-linecap=\"round\" style=\"stroke:rgb(82,68,75);stroke-width:4\"/><line x1=\"430.902\" y1=\"345.098\" x2=\"400.0\" y2=\"249.992\" stroke-linecap=\"round\" style=\"stroke:rgb(82,68,75);stroke-width:4\"/>\n",
              "        <g visibility=visible transform=\"rotate(359.99999999999994,400.0,249.992) translate(382.0, 231.992)\">\n",
              "<path style=\" stroke:none;fill-rule:evenodd;fill:rgb(82,68,75);fill-opacity:1;\" d=\"M 18.214844 0.632812 C 16.109375 1.800781 15.011719 4.074219 15.074219 7.132812 L 15.085938 7.652344 L 14.785156 7.496094 C 13.476562 6.824219 11.957031 6.671875 10.40625 7.066406 C 8.46875 7.550781 6.515625 9.15625 4.394531 11.992188 C 3.0625 13.777344 2.679688 14.636719 3.042969 15.027344 L 3.15625 15.152344 L 3.519531 15.152344 C 4.238281 15.152344 4.828125 14.886719 8.1875 13.039062 C 9.386719 12.378906 10.371094 11.839844 10.378906 11.839844 C 10.386719 11.839844 10.355469 11.929688 10.304688 12.035156 C 9.832031 13.09375 9.257812 14.820312 8.96875 16.078125 C 7.914062 20.652344 8.617188 24.53125 11.070312 27.660156 C 11.351562 28.015625 11.363281 27.914062 10.972656 28.382812 C 8.925781 30.84375 7.945312 33.28125 8.238281 35.1875 C 8.289062 35.527344 8.28125 35.523438 8.917969 35.523438 C 10.941406 35.523438 13.074219 34.207031 15.136719 31.6875 C 15.359375 31.417969 15.328125 31.425781 15.5625 31.574219 C 16.292969 32.042969 18.023438 32.964844 18.175781 32.964844 C 18.335938 32.964844 19.941406 32.210938 20.828125 31.71875 C 20.996094 31.625 21.136719 31.554688 21.136719 31.558594 C 21.203125 31.664062 21.898438 32.414062 22.222656 32.730469 C 23.835938 34.300781 25.5625 35.132812 27.582031 35.300781 C 27.90625 35.328125 27.9375 35.308594 28.007812 34.984375 C 28.382812 33.242188 27.625 30.925781 25.863281 28.425781 L 25.542969 27.96875 L 25.699219 27.785156 C 28.945312 23.960938 29.132812 18.699219 26.257812 11.96875 L 26.207031 11.84375 L 27.945312 12.703125 C 31.53125 14.476562 32.316406 14.800781 33.03125 14.800781 C 33.976562 14.800781 33.78125 13.9375 32.472656 12.292969 C 28.519531 7.355469 25.394531 5.925781 21.921875 7.472656 L 21.558594 7.636719 L 21.578125 7.542969 C 21.699219 6.992188 21.761719 5.742188 21.699219 5.164062 C 21.496094 3.296875 20.664062 1.964844 19.003906 0.855469 C 18.480469 0.503906 18.457031 0.5 18.214844 0.632812\"/>\n",
              "</g>\n",
              "      </svg>\n",
              "    "
            ]
          },
          "metadata": {}
        },
        {
          "output_type": "stream",
          "name": "stdout",
          "text": [
            "3\n",
            "4\n",
            "5\n",
            "6\n",
            "7\n",
            "8\n",
            "9\n",
            "10\n",
            "11\n",
            "12\n",
            "13\n",
            "14\n",
            "15\n",
            "16\n",
            "17\n",
            "18\n",
            "19\n",
            "20\n"
          ]
        }
      ]
    }
  ]
}